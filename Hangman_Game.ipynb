{
 "cells": [
  {
   "cell_type": "code",
   "execution_count": 86,
   "metadata": {},
   "outputs": [],
   "source": [
    "from random import *\n",
    "w = open(\"HangmanWords.txt\",mode = 'r',newline = '\\n')\n",
    "words = w.read()\n",
    "word_list = words.split('\\n')\n",
    "word_dict = {i+1:word.lower() for i, word in enumerate(word_list)}\n",
    "new_word = word_dict[randint(1,25)]\n"
   ]
  },
  {
   "cell_type": "code",
   "execution_count": 91,
   "metadata": {},
   "outputs": [],
   "source": [
    "def hangman():\n",
    "    w = open(\"HangmanWords.txt\",mode = 'r',newline = '\\n')\n",
    "    words = w.read()\n",
    "    word_list = words.split('\\n')\n",
    "    word_dict = {i+1:word.lower() for i, word in enumerate(word_list)}\n",
    "    new_word = word_dict[randint(1,25)]\n",
    "#     new_word = \"programmable\"\n",
    "    output = []\n",
    "    for i in new_word:\n",
    "        output.append('_')\n",
    "    letters = set()\n",
    "    for i in new_word:\n",
    "        letters.add(i)\n",
    "#     n = 0\n",
    "    guesses = 10\n",
    "    print(output)\n",
    "    while guesses > 0:\n",
    "        letter = input(\"Pick a letter: \")\n",
    "        if letter in letters:\n",
    "            for i,char in enumerate(new_word):\n",
    "                if char == letter:\n",
    "                    output[i] = letter\n",
    "            print(\"Guesses left {}\".format(guesses))\n",
    "        else:\n",
    "#             n+=1\n",
    "            guesses -=1\n",
    "            print(\"Guesses left {}\".format(guesses))\n",
    "        print(output)\n",
    "        if '_' in output:\n",
    "            continue\n",
    "        else:\n",
    "            print(\"You win!\")\n",
    "            return None\n",
    "    print(\"The word was {}\".format(new_word))\n",
    "    return print(\"You Lose!\")\n",
    "\n",
    "            "
   ]
  },
  {
   "cell_type": "code",
   "execution_count": 93,
   "metadata": {},
   "outputs": [
    {
     "name": "stdout",
     "output_type": "stream",
     "text": [
      "['_', '_', '_', '_', '_', '_', '_', '_', '_', '_', '_', '_']\n",
      "Pick a letter: a\n",
      "Guesses left 10\n",
      "['_', '_', '_', '_', '_', '_', '_', '_', '_', 'a', '_', '_']\n",
      "Pick a letter: e\n",
      "Guesses left 10\n",
      "['_', '_', '_', '_', '_', '_', '_', '_', '_', 'a', '_', 'e']\n",
      "Pick a letter: m\n",
      "Guesses left 9\n",
      "['_', '_', '_', '_', '_', '_', '_', '_', '_', 'a', '_', 'e']\n",
      "Pick a letter: n\n",
      "Guesses left 8\n",
      "['_', '_', '_', '_', '_', '_', '_', '_', '_', 'a', '_', 'e']\n",
      "Pick a letter: s\n",
      "Guesses left 8\n",
      "['_', '_', 's', '_', '_', 's', '_', '_', '_', 'a', '_', 'e']\n",
      "Pick a letter: i\n",
      "Guesses left 8\n",
      "['_', 'i', 's', '_', '_', 's', '_', '_', '_', 'a', '_', 'e']\n",
      "Pick a letter: o\n",
      "Guesses left 8\n",
      "['_', 'i', 's', '_', '_', 's', '_', 'o', '_', 'a', '_', 'e']\n",
      "Pick a letter: l\n",
      "Guesses left 7\n",
      "['_', 'i', 's', '_', '_', 's', '_', 'o', '_', 'a', '_', 'e']\n",
      "Pick a letter: d\n",
      "Guesses left 7\n",
      "['d', 'i', 's', '_', '_', 's', '_', 'o', '_', 'a', '_', 'e']\n",
      "Pick a letter: r\n",
      "Guesses left 7\n",
      "['d', 'i', 's', '_', '_', 's', '_', 'o', 'r', 'a', '_', 'e']\n",
      "Pick a letter: t\n",
      "Guesses left 7\n",
      "['d', 'i', 's', '_', '_', 's', 't', 'o', 'r', 'a', '_', 'e']\n",
      "Pick a letter: g\n",
      "Guesses left 7\n",
      "['d', 'i', 's', '_', '_', 's', 't', 'o', 'r', 'a', 'g', 'e']\n",
      "Pick a letter:  \n",
      "Guesses left 7\n",
      "['d', 'i', 's', '_', ' ', 's', 't', 'o', 'r', 'a', 'g', 'e']\n",
      "Pick a letter: h\n",
      "Guesses left 6\n",
      "['d', 'i', 's', '_', ' ', 's', 't', 'o', 'r', 'a', 'g', 'e']\n",
      "Pick a letter: k\n",
      "Guesses left 6\n",
      "['d', 'i', 's', 'k', ' ', 's', 't', 'o', 'r', 'a', 'g', 'e']\n",
      "You win!\n"
     ]
    }
   ],
   "source": [
    "hangman()"
   ]
  },
  {
   "cell_type": "code",
   "execution_count": null,
   "metadata": {
    "collapsed": true
   },
   "outputs": [],
   "source": []
  }
 ],
 "metadata": {
  "kernelspec": {
   "display_name": "Python 3",
   "language": "python",
   "name": "python3"
  },
  "language_info": {
   "codemirror_mode": {
    "name": "ipython",
    "version": 3
   },
   "file_extension": ".py",
   "mimetype": "text/x-python",
   "name": "python",
   "nbconvert_exporter": "python",
   "pygments_lexer": "ipython3",
   "version": "3.6.3"
  }
 },
 "nbformat": 4,
 "nbformat_minor": 2
}
